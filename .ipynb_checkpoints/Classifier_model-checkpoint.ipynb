{
 "cells": [
  {
   "cell_type": "code",
   "execution_count": 1,
   "metadata": {},
   "outputs": [],
   "source": [
    "# Importing required libraries\n",
    "\n",
    "from tensorflow import keras\n",
    "from tensorflow.keras import metrics\n",
    "from tensorflow.keras.preprocessing.image import ImageDataGenerator\n",
    "from tensorflow.keras.applications.inception_v3 import InceptionV3\n",
    "from keras.preprocessing.image import load_img, img_to_array, array_to_img\n",
    "from sklearn.metrics import confusion_matrix, classification_report\n",
    "import matplotlib.pyplot as plt\n",
    "import matplotlib.image as mpimg\n",
    "import streamlit as st\n",
    "import pickle\n",
    "import tensorflow as tf\n",
    "import numpy as np\n",
    "import warnings\n",
    "from io import BytesIO\n",
    "from PIL import Image\n",
    "import re\n",
    "import os\n"
   ]
  },
  {
   "cell_type": "code",
   "execution_count": 2,
   "metadata": {},
   "outputs": [],
   "source": [
    "warnings.filterwarnings(\"ignore\", category=DeprecationWarning)\n",
    "warnings.filterwarnings(\"ignore\")"
   ]
  },
  {
   "cell_type": "code",
   "execution_count": 3,
   "metadata": {},
   "outputs": [],
   "source": [
    "# Classes for our prediction\n",
    "classification_classes = [\"Healthy_bones\", \"Fractured_bones\", \"Bones_beyond_repair\"]\n",
    "classification_classes_dict = {0:\"Healthy_bones\", 1:\"Fractured_bones\", 2:\"Bones_beyond_repair\"}"
   ]
  },
  {
   "cell_type": "markdown",
   "metadata": {},
   "source": [
    "### Helper Functions"
   ]
  },
  {
   "cell_type": "code",
   "execution_count": 4,
   "metadata": {},
   "outputs": [],
   "source": [
    "def get_image_data(image_path, image_resize_value):\n",
    "\n",
    "  # Set image size\n",
    "  img_size = image_resize_value\n",
    "\n",
    "  # Processing image\n",
    "  try:\n",
    "    x_ray_image = load_img(image_path, target_size=(img_size, img_size))\n",
    "    x_ray_image = img_to_array(x_ray_image)\n",
    "    x_ray_image = x_ray_image/255\n",
    "    x_ray_image = np.expand_dims(x_ray_image, axis=0)\n",
    "  except:\n",
    "    print(\"Some error occured in fetching data!\")  \n",
    "\n",
    "  return x_ray_image  \n"
   ]
  },
  {
   "cell_type": "code",
   "execution_count": 5,
   "metadata": {},
   "outputs": [
    {
     "data": {
      "text/plain": [
       "'C:\\\\Users\\\\deepb\\\\Programming_files\\\\Bone_classifier\\\\test images\\\\beyond repair\\\\beyond_repair_bones_image_212.jpg'"
      ]
     },
     "execution_count": 5,
     "metadata": {},
     "output_type": "execute_result"
    }
   ],
   "source": [
    "main_path = os.getcwd()\n",
    "test_image = os.path.join(main_path, \"test images\", \"beyond repair\", \"beyond_repair_bones_image_212.jpg\")\n",
    "test_image"
   ]
  },
  {
   "cell_type": "markdown",
   "metadata": {},
   "source": [
    "### Main Program"
   ]
  },
  {
   "cell_type": "code",
   "execution_count": 6,
   "metadata": {},
   "outputs": [],
   "source": [
    "cnn_model = tf.keras.models.load_model(\"Transfer_learning_model_v1.h5\", compile=False)"
   ]
  },
  {
   "cell_type": "code",
   "execution_count": 7,
   "metadata": {},
   "outputs": [],
   "source": [
    "def predict_image_class(test_image):\n",
    "    image_data = get_image_data(test_image, image_resize_value=224)\n",
    "    bone_class_image = Image.open(test_image)\n",
    "    class_probabilities = cnn_model.predict(image_data)\n",
    "    bone_image_class = classification_classes_dict[np.argmax(class_probabilities)]\n",
    "    bone_image_class_probability = round(100*class_probabilities[0][np.argmax(class_probabilities)], 5)\n",
    "    \n",
    "    return bone_class_image, bone_image_class, bone_image_class_probability"
   ]
  },
  {
   "cell_type": "code",
   "execution_count": 8,
   "metadata": {},
   "outputs": [
    {
     "data": {
      "text/plain": [
       "(<PIL.JpegImagePlugin.JpegImageFile image mode=RGB size=1536x2048 at 0x25FAFCF3520>,\n",
       " 'Bones_beyond_repair',\n",
       " 99.99822)"
      ]
     },
     "execution_count": 8,
     "metadata": {},
     "output_type": "execute_result"
    }
   ],
   "source": [
    "predict_image_class(test_image)"
   ]
  },
  {
   "cell_type": "code",
   "execution_count": null,
   "metadata": {},
   "outputs": [],
   "source": []
  }
 ],
 "metadata": {
  "kernel_info": {
   "name": "azureml_py38_pt_tf"
  },
  "kernelspec": {
   "display_name": "Python 3 (ipykernel)",
   "language": "python",
   "name": "python3"
  },
  "language_info": {
   "codemirror_mode": {
    "name": "ipython",
    "version": 3
   },
   "file_extension": ".py",
   "mimetype": "text/x-python",
   "name": "python",
   "nbconvert_exporter": "python",
   "pygments_lexer": "ipython3",
   "version": "3.9.7"
  },
  "nteract": {
   "version": "nteract-front-end@1.0.0"
  }
 },
 "nbformat": 4,
 "nbformat_minor": 2
}
